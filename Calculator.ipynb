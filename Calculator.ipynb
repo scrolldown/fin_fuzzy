{
 "cells": [
  {
   "cell_type": "code",
   "execution_count": 71,
   "metadata": {
    "collapsed": false,
    "deletable": true,
    "editable": true
   },
   "outputs": [],
   "source": [
    "def __init__(self):\n",
    "    df\n",
    "    \n",
    "def GetCalc(df):\n",
    "    ###########################################################\n",
    "    # drop 조건\n",
    "    # 1. 설정액이 1000억이하 섹터 drop.\n",
    "    # 2. 한번이라도 수익률이 마이너스를 기록했던 섹터 drop.\n",
    "    # 3. 국내채권,국내주식,해외채권,해외주식,부동산,현금으로 나누고 이 6개의 비중을 퍼지이론으로 조절하는 방식.\n",
    "    ###########################################################\n",
    "    \n",
    "    df = df.drop(df[(df['설정액']<1000)].index) # 1번 조건 drop.\n",
    "    \n",
    "    df['MoMofQoQ'] = ((((100+df['3개월'])/100)**(1/3))-1)*100\n",
    "    df['MoMofYoY'] = ((((100+df['1년'])/100)**(1/12))-1)*100    \n",
    "    df = df.drop(df[(df.MoMofYoY<0)|(df.MoMofQoQ<0)|(df['1개월']<0)].index) # 2번 조건 drop.\n",
    "    \n",
    "    dfStd = df[['1개월','MoMofYoY','MoMofQoQ']].std(axis=1)\n",
    "    df['Safety'] = (100-((dfStd - dfStd.min())/(dfStd.max()-dfStd.min()))*100)\n",
    "    \n",
    "    ReturnAdjValue = 1 # 수익성향보정치\n",
    "    SafetyAdjValue = 1 # 안전성향보정치\n",
    "    \n",
    "    # 기대수익률 = (1개월, MoMofYoY, MoMofQoQ의 평균 수익률 * 수익성향보정치) * (안전도*안전성향보정치)\n",
    "    df['기대수익률'] = (((df[['1개월','MoMofYoY','MoMofQoQ']].mean(axis=1)*ReturnAdjValue) * (df['Safety']*SafetyAdjValue) / 10000 + 1)**12-1)*100\n",
    "    df = df.drop(['3개월','1년'],axis=1)\n",
    "    \n",
    "    df = df.sort_values(by=['기대수익률'], ascending=False)\n",
    "    #df.reset_index(inplace=True, drop=True)\n",
    "    return df"
   ]
  },
  {
   "cell_type": "code",
   "execution_count": null,
   "metadata": {
    "collapsed": true,
    "deletable": true,
    "editable": true
   },
   "outputs": [],
   "source": []
  }
 ],
 "metadata": {
  "kernelspec": {
   "display_name": "Python 3",
   "language": "python",
   "name": "python3"
  },
  "language_info": {
   "codemirror_mode": {
    "name": "ipython",
    "version": 3
   },
   "file_extension": ".py",
   "mimetype": "text/x-python",
   "name": "python",
   "nbconvert_exporter": "python",
   "pygments_lexer": "ipython3",
   "version": "3.5.2"
  }
 },
 "nbformat": 4,
 "nbformat_minor": 2
}
