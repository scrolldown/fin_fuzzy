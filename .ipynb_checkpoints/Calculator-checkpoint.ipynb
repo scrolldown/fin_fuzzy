{
 "cells": [
  {
   "cell_type": "code",
   "execution_count": 11,
   "metadata": {
    "collapsed": false,
    "deletable": true,
    "editable": true
   },
   "outputs": [
    {
     "ename": "NameError",
     "evalue": "name 'Dataframe' is not defined",
     "output_type": "error",
     "traceback": [
      "\u001b[0;31m---------------------------------------------------------------------------\u001b[0m",
      "\u001b[0;31mNameError\u001b[0m                                 Traceback (most recent call last)",
      "\u001b[0;32m<ipython-input-11-dc59947b6b21>\u001b[0m in \u001b[0;36m<module>\u001b[0;34m()\u001b[0m\n\u001b[1;32m     40\u001b[0m \u001b[0mearningRateDf\u001b[0m \u001b[0;34m=\u001b[0m \u001b[0mGetCalc\u001b[0m\u001b[0;34m(\u001b[0m\u001b[0mearningRateDf\u001b[0m\u001b[0;34m)\u001b[0m\u001b[0;34m\u001b[0m\u001b[0m\n\u001b[1;32m     41\u001b[0m \u001b[0;34m\u001b[0m\u001b[0m\n\u001b[0;32m---> 42\u001b[0;31m \u001b[0mdomesticStockDf\u001b[0m\u001b[0;34m=\u001b[0m \u001b[0mDataframe\u001b[0m\u001b[0;34m(\u001b[0m\u001b[0;34m[\u001b[0m\u001b[0mdomesticDf\u001b[0m\u001b[0;34m[\u001b[0m\u001b[0;34m'대유형'\u001b[0m\u001b[0;34m]\u001b[0m\u001b[0;34m.\u001b[0m\u001b[0mstr\u001b[0m\u001b[0;34m.\u001b[0m\u001b[0mcontains\u001b[0m\u001b[0;34m(\u001b[0m\u001b[0;34m\"주식\"\u001b[0m\u001b[0;34m)\u001b[0m\u001b[0;34m]\u001b[0m\u001b[0;34m)\u001b[0m\u001b[0;34m\u001b[0m\u001b[0m\n\u001b[0m\u001b[1;32m     43\u001b[0m \u001b[0;34m\u001b[0m\u001b[0m\n\u001b[1;32m     44\u001b[0m \u001b[0mprint\u001b[0m \u001b[0;34m(\u001b[0m\u001b[0mdomesticStockDf\u001b[0m\u001b[0;34m.\u001b[0m\u001b[0mhead\u001b[0m\u001b[0;34m(\u001b[0m\u001b[0;34m)\u001b[0m\u001b[0;34m)\u001b[0m\u001b[0;34m\u001b[0m\u001b[0m\n",
      "\u001b[0;31mNameError\u001b[0m: name 'Dataframe' is not defined"
     ]
    }
   ],
   "source": [
    "import crawler\n",
    "import math\n",
    "import pandas\n",
    "\n",
    "def __init__(self):\n",
    "    df\n",
    "    \n",
    "def GetCalc(df):\n",
    "    ###########################################################\n",
    "    # drop 조건\n",
    "    # 1. 설정액이 1000억이하 섹터 drop.\n",
    "    # 2. 한번이라도 수익률이 마이너스를 기록했던 섹터 drop.\n",
    "    # 3. 국내채권,국내주식,해외채권,해외주식,부동산,현금으로 나누고 이 6개의 비중을 퍼지이론으로 조절하는 방식.\n",
    "    ###########################################################\n",
    "    \n",
    "    df = df.drop(df[(df['설정액']<1000)].index) # 1번 조건 drop.\n",
    "    \n",
    "    df['MoMofQoQ'] = ((((100+df['3개월'])/100)**(1/3))-1)*100\n",
    "    df['MoMofYoY'] = ((((100+df['1년'])/100)**(1/12))-1)*100    \n",
    "    df = df.drop(df[(df.MoMofYoY<0)|(df.MoMofQoQ<0)|(df['1개월']<0)].index) # 2번 조건 drop.\n",
    "    \n",
    "    dfStd = df[['1개월','MoMofYoY','MoMofQoQ']].std(axis=1)\n",
    "    df['Safety'] = (100-((dfStd - dfStd.min())/(dfStd.max()-dfStd.min()))*100)\n",
    "    \n",
    "    ReturnAdjValue = 1 # 수익성향보정치\n",
    "    SafetyAdjValue = 1 # 안전성향보정치\n",
    "    \n",
    "    # 기대수익률 = (1개월, MoMofYoY, MoMofQoQ의 평균 수익률 * 수익성향보정치) * (안전도*안전성향보정치)\n",
    "    df['기대수익률'] = (((df[['1개월','MoMofYoY','MoMofQoQ']].mean(axis=1)*ReturnAdjValue) * (df['Safety']*SafetyAdjValue) / 10000 + 1)**12-1)*100\n",
    "    df = df.drop(['3개월','1년'],axis=1)\n",
    "    \n",
    "    df = df.sort_values(by=['기대수익률'], ascending=False)\n",
    "    #df.reset_index(inplace=True, drop=True)\n",
    "    return df\n",
    "\n",
    "domesticDf=crawler.GetDf('http://info.finance.naver.com/fund/fundTypeEarningRate.nhn?ivstAreaWorldYn=N')\n",
    "overseasDf=crawler.GetDf('http://info.finance.naver.com/fund/fundTypeEarningRate.nhn?ivstAreaWorldYn=Y')\n",
    "\n",
    "earningRateDf = domesticDf.append(overseasDf, ignore_index=True)\n",
    "earningRateDf = GetCalc(earningRateDf)\n",
    "\n",
    "domesticStockDf= pandas.Dataframe([domesticDf['대유형'].str.contains(\"주식\")])\n",
    "\n",
    "print (domesticStockDf.head())\n",
    "#resultDf = append(overseasDf, ignore_index=True)\n",
    "\n",
    "#earningRateDf"
   ]
  },
  {
   "cell_type": "code",
   "execution_count": null,
   "metadata": {
    "collapsed": true,
    "deletable": true,
    "editable": true
   },
   "outputs": [],
   "source": []
  }
 ],
 "metadata": {
  "kernelspec": {
   "display_name": "Python 3",
   "language": "python",
   "name": "python3"
  },
  "language_info": {
   "codemirror_mode": {
    "name": "ipython",
    "version": 3
   },
   "file_extension": ".py",
   "mimetype": "text/x-python",
   "name": "python",
   "nbconvert_exporter": "python",
   "pygments_lexer": "ipython3",
   "version": "3.5.2"
  }
 },
 "nbformat": 4,
 "nbformat_minor": 2
}
